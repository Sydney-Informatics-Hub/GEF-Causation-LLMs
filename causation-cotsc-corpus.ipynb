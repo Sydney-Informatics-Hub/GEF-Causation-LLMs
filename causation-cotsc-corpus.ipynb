{
 "cells": [
  {
   "cell_type": "markdown",
   "id": "aaffd2a4-817f-4fa9-a432-943ffbcd3a65",
   "metadata": {
    "tags": []
   },
   "source": [
    "# Causation Corpus classification \n",
    "#### Chain of Thoughts Self Consistency\n",
    "\n",
    "This notebook uses the chain-of-thoughts self consistency prompting technique to classify sentences via LLMs."
   ]
  },
  {
   "cell_type": "markdown",
   "id": "2cb1df79-418d-44c1-9ee5-d2abab7ab99b",
   "metadata": {},
   "source": [
    "## OpenAI Privacy Policy\n",
    "This notebook uses OpenAI's API, meaning that your data will be sent to the OpenAI servers.\n",
    "\n",
    "For concerns about how your data will be handled, please read through the Privacy Policy [here](https://openai.com/policies/api-data-usage-policies)."
   ]
  },
  {
   "cell_type": "markdown",
   "id": "04243a4f-0073-435f-995e-6e2c8fd2f863",
   "metadata": {},
   "source": [
    "## Notebook Overview"
   ]
  },
  {
   "cell_type": "code",
   "execution_count": null,
   "id": "c4c4c345-5846-4551-85b7-0b57c6a40136",
   "metadata": {},
   "outputs": [],
   "source": [
    "# openai api key"
   ]
  },
  {
   "cell_type": "code",
   "execution_count": null,
   "id": "dbd1d92f-8d9f-40d3-94b2-2a29fb17f163",
   "metadata": {},
   "outputs": [],
   "source": [
    "# model set up\n",
    "# sampling scheme"
   ]
  },
  {
   "cell_type": "code",
   "execution_count": null,
   "id": "5048dcb9-9175-4b88-814b-f7aa0f0305c5",
   "metadata": {},
   "outputs": [],
   "source": [
    "# prompt set up\n",
    "# upload the prompt file\n",
    "# validate: validate prompt file.\n",
    "# feedback: collapsible/viewable widget for what's uploaded."
   ]
  },
  {
   "cell_type": "markdown",
   "id": "542e49a5-6fd4-48de-8268-91803e520725",
   "metadata": {},
   "source": [
    "## Classification"
   ]
  },
  {
   "cell_type": "code",
   "execution_count": null,
   "id": "b69522fd-8541-4d6c-bcaf-466560009e19",
   "metadata": {},
   "outputs": [],
   "source": [
    "# upload the dataset\n",
    "# feedback: summary of what's been uploaded. Which column is used for classification."
   ]
  },
  {
   "cell_type": "code",
   "execution_count": null,
   "id": "60bad596-86e0-447d-899d-6b4af32e7ec0",
   "metadata": {},
   "outputs": [],
   "source": [
    "# user input: confirmation\n",
    "# + how many classifications will be run.\n",
    "# + tikdollar set up\n",
    "# + expected columns in the output.xlsx.\n",
    "# + pop up view of the prompt + dataset summary + model config + tikdollar + expected output.xlsx\n",
    "# + feedback: run -> green -> running -> progress bar.\n",
    "# run classification\n",
    "# expensive compute: progressive checkpointing - \n",
    "# feedback: completion of classification -> how much is spent -> download xlsx."
   ]
  }
 ],
 "metadata": {
  "kernelspec": {
   "display_name": "Python 3 (ipykernel)",
   "language": "python",
   "name": "python3"
  },
  "language_info": {
   "codemirror_mode": {
    "name": "ipython",
    "version": 3
   },
   "file_extension": ".py",
   "mimetype": "text/x-python",
   "name": "python",
   "nbconvert_exporter": "python",
   "pygments_lexer": "ipython3",
   "version": "3.10.11"
  }
 },
 "nbformat": 4,
 "nbformat_minor": 5
}
