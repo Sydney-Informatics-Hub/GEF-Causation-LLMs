{
 "cells": [
  {
   "cell_type": "markdown",
   "id": "58d93d00-4dc6-4ce8-bc38-e80e2d67b590",
   "metadata": {},
   "source": [
    "# Naive Bayes & Random Forest"
   ]
  },
  {
   "cell_type": "code",
   "execution_count": 1,
   "id": "d5723c7c-7bb6-45fb-abdd-de2ed4e08d3e",
   "metadata": {
    "tags": []
   },
   "outputs": [],
   "source": [
    "!pip uninstall -y atap_corpus\n",
    "!pip install --quiet \"git+ssh://git@github.com/Australian-Text-Analytics-Platform/atap_corpus.git@48ec8f6438a259876bb401ef567aeaf970fb3e71\""
   ]
  },
  {
   "cell_type": "code",
   "execution_count": 2,
   "id": "e97bc494-bcbf-426b-b1e3-122d7ba64634",
   "metadata": {
    "tags": []
   },
   "outputs": [
    {
     "data": {
      "text/plain": [
       "'<DataFrameCorpus enlightened-jackrabbit size: 4278>'"
      ]
     },
     "execution_count": 2,
     "metadata": {},
     "output_type": "execute_result"
    }
   ],
   "source": [
    "# dataset setup\n",
    "import pandas as pd\n",
    "from atap_corpus.corpus import Corpus\n",
    "\n",
    "df = pd.read_excel(\"./all_sent_model_annot_no_duplicates_cfSGRR scores-700.xlsx\")\n",
    "df = df.loc[:, ['sentence', 'det', 'se', 'nat', 'hom', 'pos']]\n",
    "corpus: Corpus = Corpus.from_dataframe(df, col_doc='sentence')\n",
    "str(corpus)"
   ]
  },
  {
   "cell_type": "code",
   "execution_count": 3,
   "id": "351a590f-fb88-448b-a176-f1b0a8184cc0",
   "metadata": {
    "tags": []
   },
   "outputs": [
    {
     "data": {
      "application/vnd.jupyter.widget-view+json": {
       "model_id": "427e3b2dd99d4de4a0377aeeeb8f1043",
       "version_major": 2,
       "version_minor": 0
      },
      "text/plain": [
       "Processing:   0%|          | 0/4278 [00:00<?, ?it/s]"
      ]
     },
     "metadata": {},
     "output_type": "display_data"
    },
    {
     "data": {
      "text/plain": [
       "True"
      ]
     },
     "execution_count": 3,
     "metadata": {},
     "output_type": "execute_result"
    }
   ],
   "source": [
    "import spacy\n",
    "corpus.run_spacy(spacy.blank('en'))\n",
    "corpus.uses_spacy()"
   ]
  },
  {
   "cell_type": "code",
   "execution_count": 4,
   "id": "4656b1b1-ad60-48d9-81c4-2b4472c483fb",
   "metadata": {
    "tags": []
   },
   "outputs": [],
   "source": [
    "corpus.add_dtm(lambda doc: list(t.text for t in doc), name='tokens')"
   ]
  },
  {
   "cell_type": "code",
   "execution_count": 5,
   "id": "23ae38fc-164b-454a-babd-76847300d2b7",
   "metadata": {
    "tags": []
   },
   "outputs": [
    {
     "data": {
      "text/plain": [
       "dict_keys(['det', 'se', 'nat', 'hom', 'pos'])"
      ]
     },
     "execution_count": 5,
     "metadata": {},
     "output_type": "execute_result"
    }
   ],
   "source": [
    "# datasets setup\n",
    "import numpy as np\n",
    "from sklearn.model_selection import train_test_split\n",
    "\n",
    "split = 0.2\n",
    "datasets = dict(det=None, se=None, nat=None, hom=None, pos=None)\n",
    "for clazz in datasets.keys():\n",
    "    datasets[clazz] = dict()\n",
    "    neutral = corpus.s.filter_by_item(name=clazz, items=0)\n",
    "    biased = corpus.s.filter_by_item(name=clazz, items=1)\n",
    "    balanced_corp = biased.join(neutral.sample(len(biased), rand_stat=42))\n",
    "    \n",
    "    X, Y = np.asarray(balanced_corp.dtms['tokens'].matrix.todense()), balanced_corp[clazz]\n",
    "    X_train, X_test, y_train, y_test = train_test_split(X, Y, test_size=split, random_state=42)\n",
    "    datasets[clazz]['X'] = X\n",
    "    datasets[clazz]['Y'] = Y\n",
    "    datasets[clazz]['X_train'] = X_train\n",
    "    datasets[clazz]['y_train'] = y_train\n",
    "    datasets[clazz]['X_test'] = X_test\n",
    "    datasets[clazz]['y_test'] = y_test\n",
    "datasets.keys()"
   ]
  },
  {
   "cell_type": "markdown",
   "id": "586dde59-6e6b-48a7-9bb7-57a07840d1e1",
   "metadata": {},
   "source": [
    "# Classifications\n",
    "+ [ ] is biased classification\n",
    "+ [ ] classification per class\n",
    "+ [ ] classification as multiclass"
   ]
  },
  {
   "cell_type": "markdown",
   "id": "5b3720cd-1df1-4bb5-830b-ba32895fa0da",
   "metadata": {},
   "source": [
    "## Naive Bayes"
   ]
  },
  {
   "cell_type": "code",
   "execution_count": 6,
   "id": "9266ed46-745b-4d83-bd6f-95cb6bc0dddd",
   "metadata": {},
   "outputs": [],
   "source": [
    "from sklearn.naive_bayes import MultinomialNB\n",
    "\n",
    "for clazz, dataset in datasets.items():\n",
    "    mnb = MultinomialNB()   # each feature is multinomial since its frequencies.\n",
    "    mnb.fit(dataset['X_train'], dataset['y_train'])\n",
    "    y_preds = mnb.predict(dataset['X_test'])\n",
    "    dataset['nb'] = y_preds"
   ]
  },
  {
   "cell_type": "markdown",
   "id": "13eeea57-08d3-45d1-8b98-871b3d6ed975",
   "metadata": {
    "tags": []
   },
   "source": [
    "## Random Forest"
   ]
  },
  {
   "cell_type": "code",
   "execution_count": 7,
   "id": "b44422df-ff94-48d3-8987-62c6402f70a7",
   "metadata": {
    "tags": []
   },
   "outputs": [],
   "source": [
    "from sklearn.ensemble import RandomForestClassifier\n",
    "\n",
    "n_estimators = 100\n",
    "for clazz, dataset in datasets.items():\n",
    "    clf = RandomForestClassifier(n_estimators=n_estimators)\n",
    "    clf.fit(dataset['X_train'], dataset['y_train'])\n",
    "    y_preds = clf.predict(dataset['X_test'])\n",
    "    dataset['rf'] = y_preds"
   ]
  },
  {
   "cell_type": "markdown",
   "id": "b6958a99-48f7-4b25-87ab-eb6e82044758",
   "metadata": {},
   "source": [
    "# Evaluations"
   ]
  },
  {
   "cell_type": "code",
   "execution_count": 8,
   "id": "f5a6165e-feaf-47ec-ae5b-7fa039396ef0",
   "metadata": {
    "tags": []
   },
   "outputs": [],
   "source": [
    "# reused for (NB, RF)\n",
    "# accuracy, precision, recall for each class.\n",
    "import numpy as np\n",
    "from sklearn.metrics import classification_report\n",
    "from typing import IO\n",
    "\n",
    "def evaluate(y_pred: np.ndarray, y_true: np.ndarray, file: IO, labels=None, **kwargs):\n",
    "    assert y_pred.shape == y_true.shape, \"Mismatched shape between y_pred and y_true.\"\n",
    "    assert file.writable(), \"File is not writable.\"\n",
    "    report = classification_report(y_pred=y_pred, y_true=y_true, output_dict=False, labels=labels, **kwargs)\n",
    "    file.write(report)"
   ]
  },
  {
   "cell_type": "code",
   "execution_count": 9,
   "id": "7c2ed92a-4d1b-410c-9f17-39949807578c",
   "metadata": {
    "tags": []
   },
   "outputs": [
    {
     "name": "stdout",
     "output_type": "stream",
     "text": [
      "===det===\n",
      "              precision    recall  f1-score   support\n",
      "\n",
      "           0       0.58      0.48      0.53        29\n",
      "           1       0.62      0.71      0.67        35\n",
      "\n",
      "    accuracy                           0.61        64\n",
      "   macro avg       0.60      0.60      0.60        64\n",
      "weighted avg       0.61      0.61      0.60        64\n",
      "===se===\n",
      "              precision    recall  f1-score   support\n",
      "\n",
      "           0       0.73      0.62      0.67        26\n",
      "           1       0.64      0.75      0.69        24\n",
      "\n",
      "    accuracy                           0.68        50\n",
      "   macro avg       0.69      0.68      0.68        50\n",
      "weighted avg       0.69      0.68      0.68        50\n",
      "===nat===\n",
      "              precision    recall  f1-score   support\n",
      "\n",
      "           0       0.50      0.50      0.50         8\n",
      "           1       0.33      0.33      0.33         6\n",
      "\n",
      "    accuracy                           0.43        14\n",
      "   macro avg       0.42      0.42      0.42        14\n",
      "weighted avg       0.43      0.43      0.43        14\n",
      "===hom===\n",
      "              precision    recall  f1-score   support\n",
      "\n",
      "           0       0.58      0.70      0.64        10\n",
      "           1       0.62      0.50      0.56        10\n",
      "\n",
      "    accuracy                           0.60        20\n",
      "   macro avg       0.60      0.60      0.60        20\n",
      "weighted avg       0.60      0.60      0.60        20\n",
      "===pos===\n",
      "              precision    recall  f1-score   support\n",
      "\n",
      "           0       0.49      0.51      0.50        57\n",
      "           1       0.60      0.58      0.59        72\n",
      "\n",
      "    accuracy                           0.55       129\n",
      "   macro avg       0.55      0.55      0.55       129\n",
      "weighted avg       0.55      0.55      0.55       129\n",
      "\n"
     ]
    }
   ],
   "source": [
    "# for Naive Bayes and Random Forest, evaluate for each class.\n",
    "import io\n",
    "\n",
    "classifier = \"nb\"\n",
    "file = io.TextIOWrapper(io.BufferedWriter(io.FileIO(f\"{classifier}.txt\", mode='w')), encoding='utf-8')\n",
    "s = io.StringIO()\n",
    "for clazz, dataset in datasets.items():\n",
    "    file.write(\"===\" + clazz + \"===\\n\")\n",
    "    s.write(\"===\" + clazz + \"===\\n\")\n",
    "    evaluate(datasets[clazz][classifier], datasets[clazz]['y_test'], file=file)\n",
    "    evaluate(datasets[clazz][classifier], datasets[clazz]['y_test'], file=s)\n",
    "file.close()\n",
    "s.seek(0)\n",
    "print(s.read()); s.close()"
   ]
  },
  {
   "cell_type": "code",
   "execution_count": 10,
   "id": "b79ce591-5da0-4372-893f-87e937c8ce6b",
   "metadata": {
    "tags": []
   },
   "outputs": [
    {
     "name": "stdout",
     "output_type": "stream",
     "text": [
      "===det===\n",
      "              precision    recall  f1-score   support\n",
      "\n",
      "           0       0.55      0.55      0.55        29\n",
      "           1       0.63      0.63      0.63        35\n",
      "\n",
      "    accuracy                           0.59        64\n",
      "   macro avg       0.59      0.59      0.59        64\n",
      "weighted avg       0.59      0.59      0.59        64\n",
      "===se===\n",
      "              precision    recall  f1-score   support\n",
      "\n",
      "           0       0.75      0.69      0.72        26\n",
      "           1       0.69      0.75      0.72        24\n",
      "\n",
      "    accuracy                           0.72        50\n",
      "   macro avg       0.72      0.72      0.72        50\n",
      "weighted avg       0.72      0.72      0.72        50\n",
      "===nat===\n",
      "              precision    recall  f1-score   support\n",
      "\n",
      "           0       0.57      0.50      0.53         8\n",
      "           1       0.43      0.50      0.46         6\n",
      "\n",
      "    accuracy                           0.50        14\n",
      "   macro avg       0.50      0.50      0.50        14\n",
      "weighted avg       0.51      0.50      0.50        14\n",
      "===hom===\n",
      "              precision    recall  f1-score   support\n",
      "\n",
      "           0       0.29      0.20      0.24        10\n",
      "           1       0.38      0.50      0.43        10\n",
      "\n",
      "    accuracy                           0.35        20\n",
      "   macro avg       0.34      0.35      0.34        20\n",
      "weighted avg       0.34      0.35      0.34        20\n",
      "===pos===\n",
      "              precision    recall  f1-score   support\n",
      "\n",
      "           0       0.41      0.56      0.47        57\n",
      "           1       0.51      0.36      0.42        72\n",
      "\n",
      "    accuracy                           0.45       129\n",
      "   macro avg       0.46      0.46      0.45       129\n",
      "weighted avg       0.47      0.45      0.45       129\n",
      "\n"
     ]
    }
   ],
   "source": [
    "classifier = \"rf\"\n",
    "file = io.TextIOWrapper(io.BufferedWriter(io.FileIO(f\"{classifier}.txt\", mode='w')), encoding='utf-8')\n",
    "s = io.StringIO()\n",
    "for clazz, dataset in datasets.items():\n",
    "    file.write(\"===\" + clazz + \"===\\n\")\n",
    "    s.write(\"===\" + clazz + \"===\\n\")\n",
    "    evaluate(datasets[clazz][classifier], datasets[clazz]['y_test'], file=file)\n",
    "    evaluate(datasets[clazz][classifier], datasets[clazz]['y_test'], file=s)\n",
    "file.close()\n",
    "s.seek(0)\n",
    "print(s.read()); s.close()"
   ]
  },
  {
   "cell_type": "code",
   "execution_count": null,
   "id": "c2ccdaef-5683-4eef-8b47-159fc5702ba0",
   "metadata": {},
   "outputs": [],
   "source": []
  }
 ],
 "metadata": {
  "kernelspec": {
   "display_name": "Python 3 (ipykernel)",
   "language": "python",
   "name": "python3"
  },
  "language_info": {
   "codemirror_mode": {
    "name": "ipython",
    "version": 3
   },
   "file_extension": ".py",
   "mimetype": "text/x-python",
   "name": "python",
   "nbconvert_exporter": "python",
   "pygments_lexer": "ipython3",
   "version": "3.10.11"
  }
 },
 "nbformat": 4,
 "nbformat_minor": 5
}
