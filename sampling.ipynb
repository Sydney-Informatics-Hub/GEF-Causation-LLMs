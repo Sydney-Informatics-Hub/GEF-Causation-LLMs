{
 "cells": [
  {
   "cell_type": "markdown",
   "id": "b594f0d4-630b-44c3-abfe-97465ae33281",
   "metadata": {},
   "source": [
    "# Sampler"
   ]
  },
  {
   "cell_type": "code",
   "execution_count": null,
   "id": "76fdc5aa-8ac2-4c80-8278-31ac1c83fb76",
   "metadata": {
    "tags": []
   },
   "outputs": [],
   "source": [
    "from causation import Sampler\n",
    "\n",
    "sampler = Sampler(clustering_strategy='kmeans', n_clusters = 5, embedding_type='spacy_en_core_web_sm')"
   ]
  },
  {
   "cell_type": "code",
   "execution_count": null,
   "id": "cc95dd25-6aa8-40c3-858c-58406ca9bfb5",
   "metadata": {
    "tags": []
   },
   "outputs": [],
   "source": [
    "import pandas as pd\n",
    "\n",
    "df = pd.read_excel('new_annot_data700.xlsx')\n",
    "df"
   ]
  },
  {
   "cell_type": "code",
   "execution_count": null,
   "id": "c146aa85-2a8b-46d3-be25-aa6323106ad3",
   "metadata": {
    "tags": []
   },
   "outputs": [],
   "source": [
    "df['pos'].value_counts()"
   ]
  },
  {
   "cell_type": "code",
   "execution_count": null,
   "id": "34160dc7-2eea-414f-a01a-cef54d8b327c",
   "metadata": {
    "tags": []
   },
   "outputs": [],
   "source": [
    "df = df[(df['det'] ^ df['se'] ^ df['nat'] ^ df['hom'] == 1) | (df['pos'] == 0)]\n",
    "df"
   ]
  },
  {
   "cell_type": "code",
   "execution_count": null,
   "id": "cc2e90ca-0c1f-461e-ac39-f7426900e2a4",
   "metadata": {
    "tags": []
   },
   "outputs": [],
   "source": [
    "def to_string(row):\n",
    "    if row.det: return \"determinism\"\n",
    "    if row.se: return \"specific_aetiology\"\n",
    "    if row.nat: return \"naturalness\"\n",
    "    if row.hom: return \"homogeneity\"\n",
    "    return \"neutral\"\n",
    "\n",
    "df['clazz'] = df.apply(to_string, axis=1)\n",
    "df['clazz'].value_counts()"
   ]
  },
  {
   "cell_type": "code",
   "execution_count": null,
   "id": "dd0c95f0-6d23-4268-8388-f8509c6de339",
   "metadata": {
    "tags": []
   },
   "outputs": [],
   "source": [
    "artifact = sampler.initialise(df, col_clazz='clazz', col_text='sentence', verbose=True)"
   ]
  },
  {
   "cell_type": "markdown",
   "id": "3f691b4c-4c64-43b5-9f1f-8f69a397d1e4",
   "metadata": {
    "tags": []
   },
   "source": [
    "sample = sampler.sample(100, verbose=True)\n",
    "sample['clazz'].value_counts()"
   ]
  },
  {
   "cell_type": "code",
   "execution_count": null,
   "id": "7d65739b-a616-42f5-aea4-2238774f64d3",
   "metadata": {
    "tags": []
   },
   "outputs": [],
   "source": [
    "sample = sampler.sample(1400, clazz_weights=[0.05, 0.05, 0.1, 0.1, 0.7], verbose=True)\n",
    "sample['clazz'].value_counts()"
   ]
  },
  {
   "cell_type": "code",
   "execution_count": null,
   "id": "b0c48e1e-c894-4e02-99f3-ffab2f82397d",
   "metadata": {
    "tags": []
   },
   "outputs": [],
   "source": [
    "# path = f\"sample_{len(sample)}.xlsx\"\n",
    "# sample.to_excel(path, index=False)\n",
    "# f\"Saved to {path}\" "
   ]
  },
  {
   "cell_type": "code",
   "execution_count": null,
   "id": "786d70e9-1fdf-4f4d-9ef0-9426fae9d17d",
   "metadata": {},
   "outputs": [],
   "source": []
  }
 ],
 "metadata": {
  "kernelspec": {
   "display_name": "Python 3 (ipykernel)",
   "language": "python",
   "name": "python3"
  },
  "language_info": {
   "codemirror_mode": {
    "name": "ipython",
    "version": 3
   },
   "file_extension": ".py",
   "mimetype": "text/x-python",
   "name": "python",
   "nbconvert_exporter": "python",
   "pygments_lexer": "ipython3",
   "version": "3.10.11"
  }
 },
 "nbformat": 4,
 "nbformat_minor": 5
}
