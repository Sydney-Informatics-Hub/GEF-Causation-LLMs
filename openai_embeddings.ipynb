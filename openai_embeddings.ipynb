{
 "cells": [
  {
   "cell_type": "markdown",
   "id": "4754d290-c1fb-4ff0-9a49-6504ff43477f",
   "metadata": {},
   "source": [
    "# OpenAI Embeddings\n",
    "\n",
    "For 1536 examples from the new_annotate_700 dataset, it'll cost about $0.005006 USD."
   ]
  },
  {
   "cell_type": "code",
   "execution_count": null,
   "id": "540da812-5281-4125-bd3e-d7b9b3f5ba79",
   "metadata": {
    "tags": []
   },
   "outputs": [],
   "source": [
    "# Enter your API Key via a redacted input box.\n",
    "import panel as pn\n",
    "pn.extension()\n",
    "\n",
    "password_input = pn.widgets.PasswordInput(name='Enter your OpenAI API key then run the next cell:', placeholder='<OpenAI API Key>')\n",
    "password_input"
   ]
  },
  {
   "cell_type": "code",
   "execution_count": null,
   "id": "19842865-1e68-46da-af84-66d60aad92a5",
   "metadata": {},
   "outputs": [],
   "source": [
    "os.environ['OPENAI_API_KEY'] = password_input.value"
   ]
  },
  {
   "cell_type": "code",
   "execution_count": null,
   "id": "d6a37291-02d2-4e82-960f-d0008adc4470",
   "metadata": {
    "tags": []
   },
   "outputs": [],
   "source": [
    "# Validate your API key.\n",
    "import re\n",
    "assert len(os.environ['OPENAI_API_KEY']) == 51, \"OpenAI's API Key are 51 characters.\"\n",
    "os.environ['OPENAI_API_KEY'][:3] + re.sub('.', '*', os.environ['OPENAI_API_KEY'][3:])"
   ]
  },
  {
   "cell_type": "markdown",
   "id": "760315e7-f5f0-4320-861c-e1b3a19c30fd",
   "metadata": {},
   "source": [
    "# Loop over dataset and save the embeddings"
   ]
  },
  {
   "cell_type": "code",
   "execution_count": null,
   "id": "3c531f32-7a06-48b8-9d11-d2b1c93dd4da",
   "metadata": {
    "tags": []
   },
   "outputs": [],
   "source": [
    "import openai\n",
    "import srsly\n",
    "\n",
    "def request_and_persist(sentence: str, dir_: str='.'):\n",
    "    if not isinstance(sentence, str): raise TypeError(\"sentence must be a str.\")\n",
    "    print(\"requesting for embeddings... \", end='')\n",
    "    response = openai.Embedding.create(\n",
    "      input=sentence,\n",
    "      model=\"text-embedding-ada-002\",\n",
    "    )\n",
    "    path = f'{dir_}/{hash(sentence)}.json'\n",
    "    srsly.write_json(path, dict(response))\n",
    "    print(f\"persisted to {path}.\")"
   ]
  },
  {
   "cell_type": "code",
   "execution_count": null,
   "id": "136eb489-d04f-44f4-8180-dfa8f9193e30",
   "metadata": {
    "tags": []
   },
   "outputs": [],
   "source": [
    "import pandas as pd\n",
    "df = pd.read_excel('./new_annot_data700.xlsx')"
   ]
  },
  {
   "cell_type": "code",
   "execution_count": null,
   "id": "cc64d572-0131-43f0-a796-b297be724816",
   "metadata": {
    "tags": []
   },
   "outputs": [],
   "source": [
    "sent = df.iloc[0].sentence\n",
    "sent"
   ]
  },
  {
   "cell_type": "code",
   "execution_count": null,
   "id": "23aba949-4d62-4c33-a431-0411b25227f7",
   "metadata": {
    "tags": []
   },
   "outputs": [],
   "source": [
    "request_and_persist(sent, dir_='embeddings')"
   ]
  },
  {
   "cell_type": "code",
   "execution_count": null,
   "id": "ecaf0f29-75cb-422d-a2a3-a916ecc6328d",
   "metadata": {
    "tags": []
   },
   "outputs": [],
   "source": [
    "# this cell costs money.\n",
    "# from tqdm.auto import tqdm\n",
    "# for sent in tqdm(df.sentence):\n",
    "    # print(sent, type(sent))\n",
    "    # request_and_persist(sent, dir_='embeddings')"
   ]
  },
  {
   "cell_type": "code",
   "execution_count": null,
   "id": "680cd4cb-fae7-4cf2-9950-ec873caa7937",
   "metadata": {
    "tags": []
   },
   "outputs": [],
   "source": [
    "from pathlib import Path\n",
    "\n",
    "files = list(Path('./embeddings').glob('*.json'))\n",
    "len(files), len(df)"
   ]
  },
  {
   "cell_type": "code",
   "execution_count": null,
   "id": "ee081a70-e26a-43e5-b02d-41893fa07404",
   "metadata": {
    "tags": []
   },
   "outputs": [],
   "source": [
    "df['sent_hash'] = df.sentence.apply(lambda s: hash(s))"
   ]
  },
  {
   "cell_type": "code",
   "execution_count": null,
   "id": "0939ef0d-fb5c-4627-8eb1-dc613b31b57b",
   "metadata": {
    "tags": []
   },
   "outputs": [],
   "source": [
    "dff = df.set_index('sent_hash')"
   ]
  },
  {
   "cell_type": "code",
   "execution_count": null,
   "id": "31b0f8a2-a5a1-412f-a953-b55f965efc7b",
   "metadata": {
    "tags": []
   },
   "outputs": [],
   "source": [
    "duplicate_indices = dff.index.duplicated()\n",
    "dff = dff[~duplicate_indices]"
   ]
  },
  {
   "cell_type": "code",
   "execution_count": null,
   "id": "71a46984-c269-4429-b631-1fd086855d66",
   "metadata": {
    "tags": []
   },
   "outputs": [],
   "source": [
    "import srsly\n",
    "import numpy as np\n",
    "\n",
    "embeddings = []\n",
    "for f in files:\n",
    "    data = srsly.read_json(f)\n",
    "    emb = np.array(data.get('data')[0].get('embedding'))\n",
    "    # print(f.stem)\n",
    "    # find associated sentence per query.\n",
    "    try:\n",
    "        row = dff.loc[int(f.stem)]\n",
    "        embeddings.append((row.sentence, emb, row.det, row.se, row.nat, row.hom, row.pos))\n",
    "    except:\n",
    "        continue\n",
    "len(embeddings), len(files)"
   ]
  },
  {
   "cell_type": "code",
   "execution_count": null,
   "id": "9a31bd75-9560-49ca-a864-6378f032e929",
   "metadata": {
    "tags": []
   },
   "outputs": [],
   "source": [
    "emb_df = pd.DataFrame(embeddings, columns=['query', 'embedding', 'det', 'se', 'nat', 'hom', 'pos'])\n",
    "len(emb_df)"
   ]
  },
  {
   "cell_type": "code",
   "execution_count": null,
   "id": "c22c0d5b-9f8e-4e92-ae14-672abca4d651",
   "metadata": {
    "tags": []
   },
   "outputs": [],
   "source": [
    "emb_df = emb_df[(emb_df['det'] ^ emb_df['se'] ^ emb_df['nat'] ^ emb_df['hom'] == 1)| (df['pos'] == 0)]\n",
    "len(emb_df)"
   ]
  },
  {
   "cell_type": "code",
   "execution_count": null,
   "id": "00e8d957-1e82-46bc-89ce-09525ffcbeaa",
   "metadata": {
    "tags": []
   },
   "outputs": [],
   "source": [
    "def to_string(row):\n",
    "    if row.det: return \"determinism\"\n",
    "    if row.se: return \"specific_aetiology\"\n",
    "    if row.nat: return \"naturalness\"\n",
    "    if row.hom: return \"homogeneity\"\n",
    "    return \"neutral\"\n",
    "emb_df['clazz'] = emb_df.apply(to_string, axis=1)\n",
    "emb_df['clazz'].value_counts()"
   ]
  },
  {
   "cell_type": "code",
   "execution_count": null,
   "id": "86473a54-ce82-4911-b7ab-a1119fc7466d",
   "metadata": {
    "tags": []
   },
   "outputs": [],
   "source": [
    "sub_emb_df = emb_df[emb_df['clazz'] != 'neutral']"
   ]
  },
  {
   "cell_type": "code",
   "execution_count": null,
   "id": "ad2b5346-d83f-4a3a-a9bd-8f3455a259dc",
   "metadata": {
    "tags": []
   },
   "outputs": [],
   "source": [
    "embeddings = np.vstack(sub_emb_df.embedding.to_list())\n",
    "embeddings.shape"
   ]
  },
  {
   "cell_type": "code",
   "execution_count": null,
   "id": "8da2b3df-0f08-44ab-97f2-74cdc59ffcc0",
   "metadata": {
    "tags": []
   },
   "outputs": [],
   "source": [
    "from causation.sampler import Sampler\n",
    "\n",
    "compressed_2d = Sampler.umap(embeddings)\n",
    "compressed_2d.shape"
   ]
  },
  {
   "cell_type": "code",
   "execution_count": null,
   "id": "66b6006f-f818-41be-ab59-30934b30fa17",
   "metadata": {
    "tags": []
   },
   "outputs": [],
   "source": [
    "import plotly.graph_objects as go\n",
    "from sklearn.preprocessing import LabelEncoder\n",
    "clazz_labels = LabelEncoder().fit_transform(sub_emb_df.loc[:, 'clazz'])\n",
    "\n",
    "scatter_clazz = go.Scatter(\n",
    "    x=compressed_2d[:, 0],\n",
    "    y=compressed_2d[:, 1],\n",
    "    mode='markers',\n",
    "    marker=dict(\n",
    "        size=8,\n",
    "        color=clazz_labels,  # assign color to each label\n",
    "        colorscale='Viridis',  # choose a colorscale\n",
    "        opacity=0.8\n",
    "    ),\n",
    "    text=sub_emb_df.loc[:, 'query'].to_list(),\n",
    "    name='class'\n",
    ")\n",
    "fig = go.Figure(data=[scatter_clazz])\n",
    "fig.update_layout(autosize=False, width=800, height=800)\n",
    "fig.show()"
   ]
  },
  {
   "cell_type": "code",
   "execution_count": null,
   "id": "707c6864-2314-445e-aba0-8b610ef05d41",
   "metadata": {},
   "outputs": [],
   "source": []
  }
 ],
 "metadata": {
  "kernelspec": {
   "display_name": "Python 3 (ipykernel)",
   "language": "python",
   "name": "python3"
  },
  "language_info": {
   "codemirror_mode": {
    "name": "ipython",
    "version": 3
   },
   "file_extension": ".py",
   "mimetype": "text/x-python",
   "name": "python",
   "nbconvert_exporter": "python",
   "pygments_lexer": "ipython3",
   "version": "3.10.11"
  }
 },
 "nbformat": 4,
 "nbformat_minor": 5
}
