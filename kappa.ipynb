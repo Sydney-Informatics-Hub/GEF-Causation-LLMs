{
 "cells": [
  {
   "cell_type": "markdown",
   "id": "68dd1f5c-f97a-42aa-bfa2-7e62514af19e",
   "metadata": {
    "tags": []
   },
   "source": [
    "# Cohen Kappa Score\n",
    "\n",
    "Cohen Kappa score measures the inter-annotator agreement. It is defined as:\n",
    "\n",
    "$$\n",
    "k = \\frac{(\\rho_o - \\rho_e)}{(1-\\rho_e)}\n",
    "$$\n",
    "\n",
    "- $\\rho_0$ is the empirical probability of agreement on the label assigned to any sample.\n",
    "- $\\rho_e$ is the expected probability of agreement on the label when assigned randomly."
   ]
  },
  {
   "cell_type": "code",
   "execution_count": null,
   "id": "46fa8460-024b-4343-ba63-51d70d6aff74",
   "metadata": {
    "tags": []
   },
   "outputs": [],
   "source": [
    "from causation.utils import fileuploader \n",
    "\n",
    "finput, data = fileuploader('.xlsx')\n",
    "finput"
   ]
  },
  {
   "cell_type": "code",
   "execution_count": null,
   "id": "69b0b684-2ab8-470f-9b24-922e1da565f1",
   "metadata": {
    "tags": []
   },
   "outputs": [],
   "source": [
    "import pandas as pd\n",
    "\n",
    "df = pd.read_excel(data.get('data'), header=1)\n",
    "df.head()"
   ]
  },
  {
   "cell_type": "markdown",
   "id": "40f0f48c-9649-47fd-9d22-018ed2af47db",
   "metadata": {},
   "source": [
    "### Calculate Cohen Kappa per 200 examples"
   ]
  },
  {
   "cell_type": "code",
   "execution_count": null,
   "id": "b12312ac-9044-4b37-b894-52c4fcfc551c",
   "metadata": {
    "tags": []
   },
   "outputs": [],
   "source": [
    "from sklearn.metrics import cohen_kappa_score\n",
    "\n",
    "clazzes = ['(DE)', '(SE)', '(NA)', '(H&D)']\n",
    "interval = 200\n",
    "parts = int(len(df)/interval)\n",
    "\n",
    "kappas = {clazz: list() for clazz in clazzes}\n",
    "for i in range(parts):\n",
    "    for clazz in clazzes:\n",
    "        first = df.loc[i:(i+1)*interval, clazz].to_numpy()\n",
    "        second = df.loc[i:(i+1)*interval, f\"{clazz}.1\"].to_numpy()\n",
    "        kappa = cohen_kappa_score(first, second)\n",
    "        kappas[clazz].append(kappa)\n",
    "\n",
    "assert len(kappas.keys()) == len(clazzes), \"Mismatched number of classes.\"\n",
    "assert sum([len(kappa) for kappa in kappas.values()])/len(kappas) == parts, \"Mismatched number of intervals.\"\n",
    "\"Passed, please continue.\""
   ]
  },
  {
   "cell_type": "code",
   "execution_count": null,
   "id": "b8946654-4d8d-42fd-97c5-c538354f9e23",
   "metadata": {
    "tags": []
   },
   "outputs": [],
   "source": [
    "import srsly\n",
    "from pathlib import Path\n",
    "from datetime import datetime\n",
    "\n",
    "now = datetime.now().strftime(format=\"%Y-%m-%d_%H-%M-%S\")\n",
    "output_dir = Path(f\"./.kappa-{now}\")\n",
    "output_dir.mkdir(exist_ok=False)\n",
    "srsly.write_json(output_dir.joinpath(\"kappas.json\"), kappas)\n",
    "df.to_excel(output_dir.joinpath(\"annotations.xlsx\"))\n",
    "_ = plt.savefig(output_dir.joinpath('plot.png'), format='png')"
   ]
  },
  {
   "cell_type": "code",
   "execution_count": null,
   "id": "4e53e1c9-6273-4af4-8b87-eba3b27c0a41",
   "metadata": {
    "tags": []
   },
   "outputs": [],
   "source": [
    "import matplotlib.pyplot as plt\n",
    "\n",
    "fig = plt.figure(figsize=(8,5))\n",
    "for clazz, kappa in kappas.items():\n",
    "    plt.plot(list([t*200 for t in range(1, parts+1)]), kappa, label=clazz, marker='o')\n",
    "\n",
    "plt.title(\"GEF: Cohen Kappa\")\n",
    "plt.xlabel('examples')\n",
    "plt.ylabel('cohen kappa')\n",
    "plt.grid(True)\n",
    "plt.legend()\n",
    "_ = plt.savefig(output_dir.joinpath('plot.png'), format='png')\n",
    "plt.show()"
   ]
  },
  {
   "cell_type": "code",
   "execution_count": null,
   "id": "61801326-a61b-4e36-8a0a-183467f65a09",
   "metadata": {
    "tags": []
   },
   "outputs": [],
   "source": [
    "import os\n",
    "import zipfile\n",
    "import panel as pn\n",
    "pn.extension()\n",
    "\n",
    "\n",
    "file_names = output_dir.glob(\"*\")\n",
    "zfname = Path(f'{now}-kappa.zip')\n",
    "with zipfile.ZipFile(zfname, 'w') as zipf:\n",
    "    for file_name in file_names:\n",
    "        zipf.write(file_name, arcname=os.path.basename(file_name))\n",
    "print(f\"Saved as {zfname}.\\nClick below to download.\")\n",
    "pn.widgets.FileDownload(file=str(zfname), filename=zfname.name)"
   ]
  },
  {
   "cell_type": "code",
   "execution_count": null,
   "id": "b50e23d3-152d-4660-83b6-368a5bc85dce",
   "metadata": {},
   "outputs": [],
   "source": []
  }
 ],
 "metadata": {
  "kernelspec": {
   "display_name": "Python 3 (ipykernel)",
   "language": "python",
   "name": "python3"
  },
  "language_info": {
   "codemirror_mode": {
    "name": "ipython",
    "version": 3
   },
   "file_extension": ".py",
   "mimetype": "text/x-python",
   "name": "python",
   "nbconvert_exporter": "python",
   "pygments_lexer": "ipython3",
   "version": "3.10.11"
  }
 },
 "nbformat": 4,
 "nbformat_minor": 5
}
